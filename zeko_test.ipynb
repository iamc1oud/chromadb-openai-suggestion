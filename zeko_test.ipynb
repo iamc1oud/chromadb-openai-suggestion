{
 "cells": [
  {
   "cell_type": "code",
   "execution_count": 75,
   "metadata": {},
   "outputs": [],
   "source": [
    "import chromadb\n",
    "import json\n",
    "\n",
    "from chromadb.utils import embedding_functions\n",
    "\n",
    "# Read menu json.\n",
    "with open('short_menu.json', 'r') as f:\n",
    "    menu = json.load(f)"
   ]
  },
  {
   "cell_type": "markdown",
   "metadata": {},
   "source": [
    "### Generate embeddings for menu items"
   ]
  },
  {
   "cell_type": "markdown",
   "metadata": {},
   "source": [
    "### Prepare the data for chroma db."
   ]
  },
  {
   "cell_type": "code",
   "execution_count": 110,
   "metadata": {},
   "outputs": [],
   "source": [
    "transformer = embedding_functions.SentenceTransformerEmbeddingFunction(model_name='bert-base-nli-mean-tokens')\n",
    "\n",
    "client = chromadb.Client()\n",
    "\n",
    "texts = []\n",
    "metadata = []\n",
    "ids = []\n",
    "\n",
    "for category in menu['data']['menuCategories']:\n",
    "    for item in category['items']:\n",
    "        texts.append(f\"Name: {item['name']} | Price: {item['price']}\")\n",
    "        metadata.append({\n",
    "            \"id\": item['id'],\n",
    "            \"name\": item['name'],\n",
    "            \"price\": item['price'],\n",
    "            \"category\": category['menuCategoryName'],\n",
    "            \"hotel\": item['hotel']\n",
    "        })\n",
    "        ids.append(str(item['id']))\n",
    "\n",
    "\n",
    "client.delete_collection('menu_collection')\n",
    "\n",
    "collection = client.get_or_create_collection('menu_collection', embedding_function=transformer)"
   ]
  },
  {
   "cell_type": "markdown",
   "metadata": {},
   "source": [
    "## Recommendation System"
   ]
  },
  {
   "cell_type": "code",
   "execution_count": 111,
   "metadata": {},
   "outputs": [],
   "source": [
    "# Add data to collection\n",
    "collection.add(ids=ids, documents=texts, metadatas=metadata)"
   ]
  },
  {
   "cell_type": "code",
   "execution_count": 118,
   "metadata": {},
   "outputs": [
    {
     "data": {
      "text/plain": [
       "{'ids': [['259', '279']],\n",
       " 'embeddings': None,\n",
       " 'documents': [['Name: Pizza | Price: 100.0',\n",
       "   'Name: Chocolate Brownie (BQT) | Price: 125.0']],\n",
       " 'uris': None,\n",
       " 'data': None,\n",
       " 'metadatas': [[{'category': \"Today's Offers\",\n",
       "    'hotel': 34,\n",
       "    'id': 259,\n",
       "    'name': 'Pizza',\n",
       "    'price': 100.0},\n",
       "   {'category': \"Today's Offers\",\n",
       "    'hotel': 34,\n",
       "    'id': 279,\n",
       "    'name': 'Chocolate Brownie (BQT)',\n",
       "    'price': 125.0}]],\n",
       " 'distances': [[155.05453491210938, 270.24859619140625]],\n",
       " 'included': [<IncludeEnum.distances: 'distances'>,\n",
       "  <IncludeEnum.documents: 'documents'>,\n",
       "  <IncludeEnum.metadatas: 'metadatas'>]}"
      ]
     },
     "execution_count": 118,
     "metadata": {},
     "output_type": "execute_result"
    }
   ],
   "source": [
    "results = collection.query(\n",
    "    n_results=2,\n",
    "    query_texts=[\"List hotel 100 foods\"],\n",
    ")\n",
    "\n",
    "results"
   ]
  },
  {
   "cell_type": "code",
   "execution_count": null,
   "metadata": {},
   "outputs": [],
   "source": []
  },
  {
   "cell_type": "code",
   "execution_count": null,
   "metadata": {},
   "outputs": [],
   "source": []
  }
 ],
 "metadata": {
  "kernelspec": {
   "display_name": ".venv",
   "language": "python",
   "name": "python3"
  },
  "language_info": {
   "codemirror_mode": {
    "name": "ipython",
    "version": 3
   },
   "file_extension": ".py",
   "mimetype": "text/x-python",
   "name": "python",
   "nbconvert_exporter": "python",
   "pygments_lexer": "ipython3",
   "version": "3.10.9"
  }
 },
 "nbformat": 4,
 "nbformat_minor": 2
}

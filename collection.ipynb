{
 "cells": [
  {
   "cell_type": "code",
   "execution_count": 21,
   "metadata": {},
   "outputs": [],
   "source": [
    "import chromadb\n",
    "from chromadb.utils import embedding_functions\n",
    "\n",
    "chroma_client = chromadb.Client()"
   ]
  },
  {
   "cell_type": "code",
   "execution_count": 24,
   "metadata": {},
   "outputs": [],
   "source": [
    "sentence_transormer_ef = embedding_functions.SentenceTransformerEmbeddingFunction(\"all-mpnet-base-v2\")\n",
    "collection = chroma_client.create_collection(name=\"test_collectio\", embedding_function=sentence_transormer_ef)"
   ]
  },
  {
   "cell_type": "code",
   "execution_count": 25,
   "metadata": {},
   "outputs": [],
   "source": [
    "collection.add(\n",
    "    documents=[\n",
    "        \"Pizza Margherita - $8\",\n",
    "        \"Pizza Pepperoni - $12\",\n",
    "        \"Pizza BBQ - $15\",\n",
    "        \n",
    "        # Drinks\n",
    "        \"Coca-Cola - $2\",\n",
    "        \"Fanta - $2\",\n",
    "        \"Sprite - $2\",\n",
    "        \n",
    "        # Desserts\n",
    "        \"Tiramisu - $5\",\n",
    "        \"Cheesecake - $4\",\n",
    "        \"Panna Cotta - $10\"\n",
    "    ],\n",
    "    ids=[\n",
    "        \"pizza-margherita\",\n",
    "        \"pizza-pepperoni\",\n",
    "        \"pizza-bbq\",\n",
    "        \"coca-cola\",\n",
    "        \"fanta\",\n",
    "        \"sprite\",\n",
    "        \"tiramisu\",\n",
    "        \"cheesecake\",\n",
    "        \"panna-cotta\"\n",
    "    ]\n",
    ")\n"
   ]
  },
  {
   "cell_type": "code",
   "execution_count": 26,
   "metadata": {},
   "outputs": [],
   "source": [
    "results = collection.query(\n",
    "    query_texts=[\"Suggest me some drinks under $3\", \"What desserts do you have?\"],\n",
    "    n_results=3\n",
    ")"
   ]
  },
  {
   "cell_type": "code",
   "execution_count": 27,
   "metadata": {},
   "outputs": [
    {
     "data": {
      "text/plain": [
       "{'ids': [['tiramisu', 'coca-cola', 'panna-cotta'],\n",
       "  ['cheesecake', 'panna-cotta', 'tiramisu']],\n",
       " 'embeddings': None,\n",
       " 'documents': [['Tiramisu - $5', 'Coca-Cola - $2', 'Panna Cotta - $10'],\n",
       "  ['Cheesecake - $4', 'Panna Cotta - $10', 'Tiramisu - $5']],\n",
       " 'uris': None,\n",
       " 'data': None,\n",
       " 'metadatas': [[None, None, None], [None, None, None]],\n",
       " 'distances': [[1.0339480638504028, 1.091260552406311, 1.145126461982727],\n",
       "  [0.9311164617538452, 1.0556273460388184, 1.196415662765503]],\n",
       " 'included': [<IncludeEnum.distances: 'distances'>,\n",
       "  <IncludeEnum.documents: 'documents'>,\n",
       "  <IncludeEnum.metadatas: 'metadatas'>]}"
      ]
     },
     "execution_count": 27,
     "metadata": {},
     "output_type": "execute_result"
    }
   ],
   "source": [
    "results"
   ]
  },
  {
   "cell_type": "code",
   "execution_count": 28,
   "metadata": {},
   "outputs": [
    {
     "data": {
      "text/plain": [
       "['test_collectio', 'test_collection']"
      ]
     },
     "execution_count": 28,
     "metadata": {},
     "output_type": "execute_result"
    }
   ],
   "source": [
    "chroma_client.list_collections()"
   ]
  },
  {
   "cell_type": "code",
   "execution_count": null,
   "metadata": {},
   "outputs": [],
   "source": []
  }
 ],
 "metadata": {
  "kernelspec": {
   "display_name": ".venv",
   "language": "python",
   "name": "python3"
  },
  "language_info": {
   "codemirror_mode": {
    "name": "ipython",
    "version": 3
   },
   "file_extension": ".py",
   "mimetype": "text/x-python",
   "name": "python",
   "nbconvert_exporter": "python",
   "pygments_lexer": "ipython3",
   "version": "3.10.9"
  }
 },
 "nbformat": 4,
 "nbformat_minor": 2
}

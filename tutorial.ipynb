{
 "cells": [
  {
   "cell_type": "code",
   "execution_count": 67,
   "metadata": {},
   "outputs": [],
   "source": [
    "import chromadb\n",
    "from chromadb.utils import embedding_functions\n",
    "\n",
    "chroma_client = chromadb.Client()"
   ]
  },
  {
   "cell_type": "code",
   "execution_count": 70,
   "metadata": {},
   "outputs": [],
   "source": [
    "sentence_transormer_ef = embedding_functions.SentenceTransformerEmbeddingFunction(\"all-mpnet-base-v2\")\n",
    "collection = chroma_client.get_or_create_collection(name=\"foods\")"
   ]
  },
  {
   "cell_type": "code",
   "execution_count": 71,
   "metadata": {},
   "outputs": [],
   "source": [
    "collection.add(\n",
    "    documents=[\n",
    "        \"Pizza Margherita - $8\",\n",
    "        \"Pizza Pepperoni - $12\",\n",
    "        \"Pizza BBQ - $15\",\n",
    "        \n",
    "        # Drinks\n",
    "        \"Coca-Cola - $2\",\n",
    "        \"Fanta - $2\",\n",
    "        \"Sprite - $2\",\n",
    "        \n",
    "        # Desserts\n",
    "        \"Tiramisu - $5\",\n",
    "        \"Cheesecake - $4\",\n",
    "        \"Panna Cotta - $10\"\n",
    "    ],\n",
    "    ids=[\n",
    "        \"pizza-margherita\",\n",
    "        \"pizza-pepperoni\",\n",
    "        \"pizza-bbq\",\n",
    "        \"coca-cola\",\n",
    "        \"fanta\",\n",
    "        \"sprite\",\n",
    "        \"tiramisu\",\n",
    "        \"cheesecake\",\n",
    "        \"panna-cotta\"\n",
    "    ]\n",
    ")\n"
   ]
  },
  {
   "cell_type": "code",
   "execution_count": 75,
   "metadata": {},
   "outputs": [],
   "source": [
    "results = collection.query(\n",
    "    query_texts=[\"What are the drinks?\"],\n",
    "    n_results=2\n",
    ")"
   ]
  },
  {
   "cell_type": "code",
   "execution_count": 76,
   "metadata": {},
   "outputs": [
    {
     "data": {
      "text/plain": [
       "{'ids': [['coca-cola', 'pizza-pepperoni']],\n",
       " 'embeddings': None,\n",
       " 'documents': [['Coca-Cola - $2', 'Pizza Pepperoni - $12']],\n",
       " 'uris': None,\n",
       " 'data': None,\n",
       " 'metadatas': [[None, None]],\n",
       " 'distances': [[1.2238810062408447, 1.400134801864624]],\n",
       " 'included': [<IncludeEnum.distances: 'distances'>,\n",
       "  <IncludeEnum.documents: 'documents'>,\n",
       "  <IncludeEnum.metadatas: 'metadatas'>]}"
      ]
     },
     "execution_count": 76,
     "metadata": {},
     "output_type": "execute_result"
    }
   ],
   "source": [
    "results"
   ]
  },
  {
   "cell_type": "code",
   "execution_count": null,
   "metadata": {},
   "outputs": [],
   "source": []
  }
 ],
 "metadata": {
  "kernelspec": {
   "display_name": ".venv",
   "language": "python",
   "name": "python3"
  },
  "language_info": {
   "codemirror_mode": {
    "name": "ipython",
    "version": 3
   },
   "file_extension": ".py",
   "mimetype": "text/x-python",
   "name": "python",
   "nbconvert_exporter": "python",
   "pygments_lexer": "ipython3",
   "version": "3.10.9"
  }
 },
 "nbformat": 4,
 "nbformat_minor": 2
}
